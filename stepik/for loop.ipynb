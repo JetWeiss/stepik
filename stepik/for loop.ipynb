{
 "cells": [
  {
   "cell_type": "code",
   "execution_count": 18,
   "metadata": {
    "collapsed": true
   },
   "outputs": [
    {
     "name": "stdout",
     "output_type": "stream",
     "text": [
      "\t5\t6\t\n",
      " 7\t35\t42\t\n",
      " 8\t40\t48\t\n",
      " 9\t45\t54\t\n",
      " 10\t50\t60\t"
     ]
    }
   ],
   "source": [
    "a = int(input())\n",
    "b = int(input())\n",
    "c = int(input())\n",
    "d = int(input())\n",
    "print('', end= '\\t')\n",
    "for i in range(c, d+1):\n",
    "    print(i, end = '\\t')\n",
    "for i in range(a, b+1):\n",
    "    print('\\n',i, end = '\\t')\n",
    "    for j in range(c, d+1):\n",
    "        print (j * i, end = '\\t')"
   ]
  },
  {
   "cell_type": "code",
   "execution_count": 19,
   "outputs": [
    {
     "name": "stdout",
     "output_type": "stream",
     "text": [
      "4.5\n"
     ]
    }
   ],
   "source": [
    "a = int(input())\n",
    "b = int(input())\n",
    "co = 0\n",
    "arph = 0\n",
    "for i in range(a, b + 1):\n",
    "    if i % 3 == 0:\n",
    "        co += 1\n",
    "        arph += i\n",
    "print(arph / co)"
   ],
   "metadata": {
    "collapsed": false,
    "pycharm": {
     "name": "#%%\n"
    }
   }
  },
  {
   "cell_type": "code",
   "execution_count": 22,
   "outputs": [
    {
     "name": "stdout",
     "output_type": "stream",
     "text": [
      "0.4\n"
     ]
    }
   ],
   "source": [
    "a = input()\n",
    "print((a.count('g') + a.count('c') + a.count('G') + a.count('C')) / len(a))"
   ],
   "metadata": {
    "collapsed": false,
    "pycharm": {
     "name": "#%%\n"
    }
   }
  },
  {
   "cell_type": "code",
   "execution_count": 23,
   "outputs": [
    {
     "name": "stdout",
     "output_type": "stream",
     "text": [
      "def abcdef defghijk kjihgfedcba ijk abcde kigec"
     ]
    }
   ],
   "source": [
    "s = 'abcdefghijk'\n",
    "print(s[3:6], end = ' ')\n",
    "print(s[:6], end = ' ')\n",
    "print(s[3:], end = ' ')\n",
    "print(s[::-1], end = ' ')\n",
    "print(s[-3:], end = ' ')\n",
    "print(s[:-6], end = ' ')\n",
    "print(s[-1:-10:-2], end = '')"
   ],
   "metadata": {
    "collapsed": false,
    "pycharm": {
     "name": "#%%\n"
    }
   }
  },
  {
   "cell_type": "code",
   "execution_count": 33,
   "outputs": [
    {
     "name": "stdout",
     "output_type": "stream",
     "text": [
      "a4b2c1a2\n"
     ]
    }
   ],
   "source": [
    "dna = input()\n",
    "result = ''\n",
    "i = 0\n",
    "while i < len(dna):\n",
    "    result += dna[i]\n",
    "    co = 1\n",
    "    for j in range(i+1, len(dna)):\n",
    "        if dna[j] == dna[i]:\n",
    "            co += 1\n",
    "        else:\n",
    "            break\n",
    "    result += str(co)\n",
    "    i += co\n",
    "print(result)"
   ],
   "metadata": {
    "collapsed": false,
    "pycharm": {
     "name": "#%%\n"
    }
   }
  },
  {
   "cell_type": "code",
   "execution_count": null,
   "outputs": [],
   "source": [],
   "metadata": {
    "collapsed": false,
    "pycharm": {
     "name": "#%%\n"
    }
   }
  }
 ],
 "metadata": {
  "kernelspec": {
   "display_name": "Python 3",
   "language": "python",
   "name": "python3"
  },
  "language_info": {
   "codemirror_mode": {
    "name": "ipython",
    "version": 2
   },
   "file_extension": ".py",
   "mimetype": "text/x-python",
   "name": "python",
   "nbconvert_exporter": "python",
   "pygments_lexer": "ipython2",
   "version": "2.7.6"
  }
 },
 "nbformat": 4,
 "nbformat_minor": 0
}