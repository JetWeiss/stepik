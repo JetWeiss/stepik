{
 "cells": [
  {
   "cell_type": "code",
   "execution_count": 1,
   "metadata": {
    "collapsed": true
   },
   "outputs": [
    {
     "name": "stdout",
     "output_type": "stream",
     "text": [
      "6.0\n"
     ]
    }
   ],
   "source": [
    "a = int(input())\n",
    "b = int(input())\n",
    "c = int(input())\n",
    "p = (a + b + c) / 2\n",
    "S = (p * (p - a) * (p - b) * (p - c)) ** 0.5\n",
    "print(S)"
   ]
  },
  {
   "cell_type": "code",
   "execution_count": 3,
   "outputs": [
    {
     "name": "stdout",
     "output_type": "stream",
     "text": [
      "False\n"
     ]
    }
   ],
   "source": [
    "number = int(input())\n",
    "if (-15 < number <= 12) or (14 < number < 17) or (19 <= number):\n",
    "    print('True')\n",
    "else:\n",
    "    print('False')"
   ],
   "metadata": {
    "collapsed": false,
    "pycharm": {
     "name": "#%%\n"
    }
   }
  },
  {
   "cell_type": "code",
   "execution_count": 4,
   "outputs": [
    {
     "name": "stdout",
     "output_type": "stream",
     "text": [
      "Деление на ноль!\n"
     ]
    }
   ],
   "source": [
    "first_num = float(input())\n",
    "sec_num = float(input())\n",
    "op = input()\n",
    "if (op == '*'):\n",
    "    print(first_num * sec_num)\n",
    "elif (op == '+'):\n",
    "    print(first_num + sec_num)\n",
    "elif (op == '-'):\n",
    "    print(first_num - sec_num)\n",
    "elif (op == '/') and sec_num != 0.0:\n",
    "    print(first_num / sec_num)\n",
    "elif (op == 'mod') and sec_num != 0.0:\n",
    "    print(first_num % sec_num)\n",
    "elif (op == 'div') and sec_num != 0.0:\n",
    "    print(first_num // sec_num)\n",
    "elif (op == 'pow'):\n",
    "    print(first_num ** sec_num)\n",
    "else:\n",
    "    print('Деление на ноль!')"
   ],
   "metadata": {
    "collapsed": false,
    "pycharm": {
     "name": "#%%\n"
    }
   }
  },
  {
   "cell_type": "code",
   "execution_count": 6,
   "outputs": [
    {
     "name": "stdout",
     "output_type": "stream",
     "text": [
      "78.5\n"
     ]
    }
   ],
   "source": [
    "figure = input()\n",
    "if figure == 'треугольник':\n",
    "    a = int(input())\n",
    "    b = int(input())\n",
    "    c = int(input())\n",
    "    p = (a + b + c) / 2\n",
    "    S = (p * (p - a) * (p - b) * (p - c)) ** 0.5\n",
    "    print(S)\n",
    "elif figure == 'прямоугольник':\n",
    "    a = int(input())\n",
    "    b = int(input())\n",
    "    S = a * b\n",
    "    print(S)\n",
    "elif figure == 'круг':\n",
    "    Pi = 3.14\n",
    "    r = int(input())\n",
    "    S = Pi * r ** 2\n",
    "    print(S)"
   ],
   "metadata": {
    "collapsed": false,
    "pycharm": {
     "name": "#%%\n"
    }
   }
  },
  {
   "cell_type": "code",
   "execution_count": 12,
   "outputs": [
    {
     "name": "stdout",
     "output_type": "stream",
     "text": [
      "44\n",
      "2\n",
      "11\n"
     ]
    }
   ],
   "source": [
    "a = int(input())\n",
    "b = int(input())\n",
    "c = int(input())\n",
    "if a >= b and a >= c:\n",
    "    if b <= c:\n",
    "        print(a)\n",
    "        print(b)\n",
    "        print(c)\n",
    "    else:\n",
    "        print(a)\n",
    "        print(c)\n",
    "        print(b)\n",
    "elif b >= a and b >= c:\n",
    "    if a <= c:\n",
    "        print(b)\n",
    "        print(a)\n",
    "        print(c)\n",
    "    else:\n",
    "        print(b)\n",
    "        print(c)\n",
    "        print(a)\n",
    "elif c >= a and b >= b:\n",
    "    if a <= b:\n",
    "        print(c)\n",
    "        print(a)\n",
    "        print(b)\n",
    "    else:\n",
    "        print(c)\n",
    "        print(b)\n",
    "        print(a)"
   ],
   "metadata": {
    "collapsed": false,
    "pycharm": {
     "name": "#%%\n"
    }
   }
  },
  {
   "cell_type": "code",
   "execution_count": 19,
   "outputs": [
    {
     "name": "stdout",
     "output_type": "stream",
     "text": [
      "112 программистов\n"
     ]
    }
   ],
   "source": [
    "n = int(input())\n",
    "word = 'программист'\n",
    "mod_n = n % 10\n",
    "pmod_n = n % 100\n",
    "if mod_n == 1 and pmod_n != 11:\n",
    "    print(n, word)\n",
    "elif mod_n == 0 or 5 <= mod_n <= 9 or 5 <= pmod_n <= 20:\n",
    "    print(n, word + 'ов')\n",
    "elif 2 <= mod_n <= 4:\n",
    "    print(n, word + 'а')"
   ],
   "metadata": {
    "collapsed": false,
    "pycharm": {
     "name": "#%%\n"
    }
   }
  },
  {
   "cell_type": "code",
   "execution_count": 21,
   "outputs": [
    {
     "name": "stdout",
     "output_type": "stream",
     "text": [
      "Обычный\n"
     ]
    }
   ],
   "source": [
    "ticket = input()\n",
    "first = int(ticket)//1000\n",
    "second = int(ticket)%1000\n",
    "sum_f = first//100 + (first//10)%10 + first%10\n",
    "sum_s = second//100 + (second//10)%10 + second%10\n",
    "if sum_f == sum_s:\n",
    "    print('Счастливый')\n",
    "else:\n",
    "    print('Обычный')"
   ],
   "metadata": {
    "collapsed": false,
    "pycharm": {
     "name": "#%%\n"
    }
   }
  },
  {
   "cell_type": "code",
   "execution_count": null,
   "outputs": [],
   "source": [],
   "metadata": {
    "collapsed": false,
    "pycharm": {
     "name": "#%%\n"
    }
   }
  }
 ],
 "metadata": {
  "kernelspec": {
   "display_name": "Python 3",
   "language": "python",
   "name": "python3"
  },
  "language_info": {
   "codemirror_mode": {
    "name": "ipython",
    "version": 2
   },
   "file_extension": ".py",
   "mimetype": "text/x-python",
   "name": "python",
   "nbconvert_exporter": "python",
   "pygments_lexer": "ipython2",
   "version": "2.7.6"
  }
 },
 "nbformat": 4,
 "nbformat_minor": 0
}