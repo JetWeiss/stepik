{
 "cells": [
  {
   "cell_type": "code",
   "execution_count": 2,
   "metadata": {
    "collapsed": true
   },
   "outputs": [
    {
     "name": "stdout",
     "output_type": "stream",
     "text": [
      "8\n"
     ]
    }
   ],
   "source": [
    "students = ['Ivan', 'Masha', 'Sasha']\n",
    "students += ['Olga']\n",
    "students += 'Olga'\n",
    "print(len(students))"
   ]
  },
  {
   "cell_type": "code",
   "execution_count": 3,
   "outputs": [
    {
     "name": "stdout",
     "output_type": "stream",
     "text": [
      "['Ivan', 'Masha', 'Sasha', 'Olga', 'O', 'l', 'g', 'a']\n"
     ]
    }
   ],
   "source": [
    "print(students)"
   ],
   "metadata": {
    "collapsed": false,
    "pycharm": {
     "name": "#%%\n"
    }
   }
  },
  {
   "cell_type": "code",
   "execution_count": 4,
   "outputs": [
    {
     "name": "stdout",
     "output_type": "stream",
     "text": [
      "[1, 2, 3];[1, 10, 3];[20, 10, 3];[20, 10, 3];"
     ]
    }
   ],
   "source": [
    "a = [1, 2, 3]\n",
    "b = a\n",
    "print(b, end = ';')\n",
    "a[1] = 10\n",
    "print(b, end = ';')\n",
    "b[0] = 20\n",
    "print(a, end = ';')\n",
    "a = [5, 6]\n",
    "print(b, end = ';')"
   ],
   "metadata": {
    "collapsed": false,
    "pycharm": {
     "name": "#%%\n"
    }
   }
  },
  {
   "cell_type": "code",
   "execution_count": 5,
   "outputs": [
    {
     "name": "stdout",
     "output_type": "stream",
     "text": [
      "15\n"
     ]
    }
   ],
   "source": [
    "a = [int(i) for i in input().split()]\n",
    "k = 0\n",
    "for j in a:\n",
    "    k += j\n",
    "print(k)"
   ],
   "metadata": {
    "collapsed": false,
    "pycharm": {
     "name": "#%%\n"
    }
   }
  },
  {
   "cell_type": "code",
   "execution_count": 17,
   "outputs": [
    {
     "name": "stdout",
     "output_type": "stream",
     "text": [
      "34 20\n"
     ]
    }
   ],
   "source": [
    "a = [int(i) for i in input().split()]\n",
    "k = []\n",
    "if len(a) > 2:\n",
    "    k.append(a[1] + a[len(a)-1])\n",
    "    for j in range(1, len(a)-1):\n",
    "        k.append(a[j-1] + a[j+1])\n",
    "    k.append(a[len(a)-2]+ a[0])\n",
    "    for l in k:\n",
    "        print(l, end = ' ')\n",
    "elif len(a) == 1:\n",
    "    print(a[0])\n",
    "elif len(a) == 2:\n",
    "    print(a[1]+a[1], a[0]+a[0])"
   ],
   "metadata": {
    "collapsed": false,
    "pycharm": {
     "name": "#%%\n"
    }
   }
  },
  {
   "cell_type": "code",
   "execution_count": 21,
   "outputs": [],
   "source": [
    "a = [int(i) for i in input().split()]\n",
    "k = []\n",
    "co = 0\n",
    "for i in a:\n",
    "    for j in a:\n",
    "        if j == i:\n",
    "            co += 1\n",
    "    if co > 1:\n",
    "        if i not in k:\n",
    "            k.append(i)\n",
    "    co = 0\n",
    "for l in k:\n",
    "    print(l, end = ' ')"
   ],
   "metadata": {
    "collapsed": false,
    "pycharm": {
     "name": "#%%\n"
    }
   }
  },
  {
   "cell_type": "code",
   "execution_count": 22,
   "outputs": [
    {
     "name": "stdout",
     "output_type": "stream",
     "text": [
      "340\n"
     ]
    }
   ],
   "source": [
    "num = int(input())\n",
    "co = num\n",
    "sum = num**2\n",
    "while co != 0:\n",
    "    num = int(input())\n",
    "    co += num\n",
    "    sum += num**2\n",
    "print(sum)"
   ],
   "metadata": {
    "collapsed": false,
    "pycharm": {
     "name": "#%%\n"
    }
   }
  },
  {
   "cell_type": "code",
   "execution_count": 36,
   "outputs": [
    {
     "name": "stdout",
     "output_type": "stream",
     "text": [
      "1 2 2 3 3 3 4 "
     ]
    }
   ],
   "source": [
    "num = int(input())\n",
    "co = 0\n",
    "for i in range(num+1):\n",
    "    for j in range (i):\n",
    "        if co < num:\n",
    "            co += 1\n",
    "            print(i, end = ' ')"
   ],
   "metadata": {
    "collapsed": false,
    "pycharm": {
     "name": "#%%\n"
    }
   }
  },
  {
   "cell_type": "code",
   "execution_count": 37,
   "outputs": [
    {
     "name": "stdout",
     "output_type": "stream",
     "text": [
      "1 4 5 "
     ]
    }
   ],
   "source": [
    "a = [int(i) for i in input().split()]\n",
    "num = int(input())\n",
    "co = 0\n",
    "for i in range(len(a)):\n",
    "    if a[i] == num:\n",
    "        print(i, end = ' ')\n",
    "        co += 1\n",
    "if co == 0:\n",
    "    print('Отсутствует')"
   ],
   "metadata": {
    "collapsed": false,
    "pycharm": {
     "name": "#%%\n"
    }
   }
  },
  {
   "cell_type": "code",
   "execution_count": 44,
   "outputs": [
    {
     "name": "stdout",
     "output_type": "stream",
     "text": [
      "1 2 3 4 5 \n",
      "0 0 0 0 0 \n",
      "0 0 0 0 0 \n",
      "0 0 0 0 0 \n",
      "0 0 0 0 0 \n"
     ]
    }
   ],
   "source": [],
   "metadata": {
    "collapsed": false,
    "pycharm": {
     "name": "#%%\n"
    }
   }
  },
  {
   "cell_type": "code",
   "execution_count": 35,
   "outputs": [
    {
     "name": "stdout",
     "output_type": "stream",
     "text": [
      "4 4 \n"
     ]
    }
   ],
   "source": [
    "a = []\n",
    "a.append([i for i in input().split()])\n",
    "while (a[len(a)-1] != ['end']):\n",
    "    a.append([i for i in input().split()])\n",
    "a.remove(['end'])\n",
    "dlin = len(a)\n",
    "if len(a) == 1 and len(a[0]) == 1:\n",
    "    print(int(a[0][0])*4)\n",
    "else:\n",
    "    for i in range(len(a)):\n",
    "        for j in range(len(a[i])):\n",
    "            x = int(a[(i-1)][j]) + int(a[(i+1)%len(a)][j]) + int(a[i][(j-1)]) + int(a[i][(j+1)%len(a[i])])\n",
    "            print(x, end = ' ')\n",
    "        print('', end = '\\n')"
   ],
   "metadata": {
    "collapsed": false,
    "pycharm": {
     "name": "#%%\n"
    }
   }
  },
  {
   "cell_type": "code",
   "execution_count": 97,
   "outputs": [
    {
     "name": "stdout",
     "output_type": "stream",
     "text": [
      "1 2 3 4 5 6 7 8 \n",
      "28 29 30 31 32 33 34 9 \n",
      "27 48 49 50 51 52 35 10 \n",
      "26 47 60 61 62 53 36 11 \n",
      "25 46 59 64 63 54 37 12 \n",
      "24 45 58 57 56 55 38 13 \n",
      "23 44 43 42 41 40 39 14 \n",
      "22 21 20 19 18 17 16 15 \n"
     ]
    }
   ],
   "source": [
    "num = int(input())\n",
    "a = [[0 for j in range(num)] for i in range(num)]\n",
    "co = num\n",
    "number = 1\n",
    "for j in range(co):\n",
    "        a[j][0] = number\n",
    "        number += 1\n",
    "co -= 1\n",
    "for circle in range(num // 2 ):\n",
    "    for i in range(circle+1, co+1):\n",
    "        a[co][i] = number\n",
    "        number += 1\n",
    "    for dj in range(co-1, circle-1, -1):\n",
    "        a[dj][co] = number\n",
    "        number += 1\n",
    "    co -= 1\n",
    "    for di in range(co, circle, -1):\n",
    "        a[circle][di] = number\n",
    "        number += 1\n",
    "    for proov in range(circle+1, co+1):\n",
    "        a[proov][circle+1] = number\n",
    "        number += 1\n",
    "for j in range(num):\n",
    "    for i in range (num):\n",
    "        print(a[i][j], end = ' ')\n",
    "    print('', end = '\\n')"
   ],
   "metadata": {
    "collapsed": false,
    "pycharm": {
     "name": "#%%\n"
    }
   }
  },
  {
   "cell_type": "code",
   "execution_count": 94,
   "outputs": [],
   "source": [],
   "metadata": {
    "collapsed": false,
    "pycharm": {
     "name": "#%%\n"
    }
   }
  },
  {
   "cell_type": "code",
   "execution_count": null,
   "outputs": [],
   "source": [],
   "metadata": {
    "collapsed": false,
    "pycharm": {
     "name": "#%%\n"
    }
   }
  }
 ],
 "metadata": {
  "kernelspec": {
   "display_name": "Python 3",
   "language": "python",
   "name": "python3"
  },
  "language_info": {
   "codemirror_mode": {
    "name": "ipython",
    "version": 2
   },
   "file_extension": ".py",
   "mimetype": "text/x-python",
   "name": "python",
   "nbconvert_exporter": "python",
   "pygments_lexer": "ipython2",
   "version": "2.7.6"
  }
 },
 "nbformat": 4,
 "nbformat_minor": 0
}